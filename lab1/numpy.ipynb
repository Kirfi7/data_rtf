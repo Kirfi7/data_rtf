{
 "nbformat": 4,
 "nbformat_minor": 0,
 "metadata": {
  "colab": {
   "provenance": []
  },
  "kernelspec": {
   "name": "python3",
   "display_name": "Python 3"
  },
  "language_info": {
   "name": "python"
  }
 },
 "cells": [
  {
   "cell_type": "markdown",
   "source": [
    "<h1>Импорт библиотек"
   ],
   "metadata": {
    "id": "vC84e9kzyxPy"
   }
  },
  {
   "cell_type": "code",
   "execution_count": 3,
   "metadata": {
    "id": "cgKeNegmQG5S"
   },
   "outputs": [],
   "source": [
    "import numpy as np\n",
    "import matplotlib.pyplot as plt"
   ]
  },
  {
   "cell_type": "markdown",
   "source": [
    "<h1>Задача 1. Дан набор из $p$ матриц размерностью $(n, n)$ и $p$ векторов размерностью $(n, 1)$, найти сумму произведений матриц на векторы. Написать тесты для кода"
   ],
   "metadata": {
    "id": "qFM9uVU2x4Ls"
   }
  },
  {
   "cell_type": "code",
   "source": [
    "def sum_prod(X, V):\n",
    "    res_sum = np.zeros_like(V[0])\n",
    "\n",
    "    for matrix in X:\n",
    "        for vector in V:\n",
    "            res_sum += np.dot(matrix, vector)\n",
    "    return res_sum\n",
    "\n",
    "def test():\n",
    "    matrix1 = np.array([[1, 2], [3, 4]])\n",
    "    matrix2 = np.array([[5, 6], [7, 8]])\n",
    "    vector1 = np.array([1, 2])\n",
    "    vector2 = np.array([3, 4])\n",
    "    X = [matrix1, matrix2]\n",
    "    V = [vector1, vector2]\n",
    "\n",
    "    expected = np.dot(matrix1, vector1) + np.dot(matrix2, vector2) + np.dot(matrix1, vector2) + np.dot(matrix2, vector1)\n",
    "\n",
    "    np.testing.assert_array_equal(sum_prod(X, V), expected)\n",
    "\n",
    "test()"
   ],
   "metadata": {
    "id": "IAbUvEiYyWFF",
    "is_executing": true
   },
   "execution_count": null,
   "outputs": []
  },
  {
   "cell_type": "markdown",
   "source": [
    "<h1>Задача 2. Дана матрица M, напишите функцию, которая бинаризует матрицу по некоторому threshold (то есть, все значения большие threshold становятся равными 1, иначе 0). Напишите тесты для кода"
   ],
   "metadata": {
    "id": "TKwPG4fIy2w4"
   }
  },
  {
   "cell_type": "code",
   "source": [
    "def binarize(M, threshold=0.5):\n",
    "    return np.where(M > threshold, 1, 0)\n",
    "\n",
    "def test():\n",
    "    M = np.array([[7, 7, 7], [4, 5, 8], [2, 1, 3]])\n",
    "    threshold = 4\n",
    "    result = binarize(M, threshold)\n",
    "\n",
    "    expected = np.array([[1, 1, 1], [0, 1, 1], [0, 0, 0]])\n",
    "            \n",
    "    np.testing.assert_array_equal(result, expected)\n",
    "    \n",
    "test()"
   ],
   "metadata": {
    "id": "KQDNMgsjRNH7"
   },
   "execution_count": null,
   "outputs": []
  },
  {
   "cell_type": "markdown",
   "source": [
    "<h1>Задача 3. Напишите функцию, которая возвращает уникальные элементы из каждой строки матрицы. Напишите такую же функцию, но для столбцов. Напишите тесты для кода"
   ],
   "metadata": {
    "id": "IY5L-h-7zWhN"
   }
  },
  {
   "cell_type": "code",
   "source": [
    "def unique_rows(mat):\n",
    "    unique_rows = []\n",
    "    for row in mat:\n",
    "        unique_rows.append(sorted(list(set(row))))\n",
    "    return unique_rows\n",
    "\n",
    "def unique_columns(mat):\n",
    "    unique_columns = []\n",
    "    for i in range(len(mat[0])):\n",
    "        column = []\n",
    "        for row in mat:\n",
    "            column.append(row[i])\n",
    "        unique_columns.append(sorted(list(set(column))))\n",
    "    return unique_columns\n",
    "\n",
    "def test():\n",
    "    mat = [[1, 2, 3], [4, 5, 6], [7, 8, 9]]\n",
    "    result_rows = unique_rows(mat)\n",
    "    result_columns = unique_columns(mat)\n",
    "\n",
    "    expected_rows = [[1, 2, 3], [4, 5, 6], [7, 8, 9]]\n",
    "    expected_columns = [[1, 4, 7], [2, 5, 8], [3, 6, 9]]\n",
    "\n",
    "    np.testing.assert_array_equal(result_rows, expected_rows)\n",
    "    np.testing.assert_array_equal(result_columns, expected_columns)\n",
    "    \n",
    "test()"
   ],
   "metadata": {
    "id": "-8dEZhR0SBC-"
   },
   "execution_count": null,
   "outputs": []
  },
  {
   "cell_type": "markdown",
   "source": [
    "<h1>Задача 4. Напишите функцию, которая заполняет матрицу с размерами $(m, n)$ случайными числами, распределенными по нормальному закону. Затем считает мат. ожидание и дисперсию для каждого из столбцов и строк, а также строит для каждой строки и столбца гистограмму значений (использовать функцию hist из модуля matplotlib.plot)"
   ],
   "metadata": {
    "id": "roYAlo4Jz-lH"
   }
  },
  {
   "cell_type": "code",
   "source": [
    "def get_random_matrix(m, n):\n",
    "    matrix = np.random.randn(m, n)\n",
    "\n",
    "    columns_means = np.mean(matrix, axis=0)\n",
    "    rows_means = np.mean(matrix, axis=1)\n",
    "\n",
    "    columns_vars = np.var(matrix, axis=0)\n",
    "    rows_vars = np.var(matrix, axis=1)\n",
    "\n",
    "    for i in range(n):\n",
    "        plt.figure()\n",
    "        plt.hist(matrix[:, i])\n",
    "        plt.title(f'Column {i + 1} histogram')\n",
    "        plt.xlabel('Value')\n",
    "        plt.ylabel('Frequency')\n",
    "\n",
    "    for i in range(m):\n",
    "        plt.figure()\n",
    "        plt.hist(matrix[i, :])\n",
    "        plt.title(f'Row {i + 1} histogram')\n",
    "        plt.xlabel('Value')\n",
    "        plt.ylabel('Frequency')\n",
    "\n",
    "    return columns_means, columns_vars, rows_means, rows_vars\n",
    "\n",
    "get_random_matrix(5, 5)"
   ],
   "metadata": {
    "id": "nZK_71hMSQzv"
   },
   "execution_count": null,
   "outputs": []
  },
  {
   "cell_type": "markdown",
   "source": [
    "<h1>Задача 5. Напишите функцию, которая заполняет матрицу $(m, n)$ в шахматном порядке заданными числами $a$ и $b$. Напишите тесты для кода"
   ],
   "metadata": {
    "id": "BDyATNdM0dJ2"
   }
  },
  {
   "cell_type": "code",
   "source": [
    "def chess(m, n, a, b):\n",
    "    matrix = np.zeros((m, n))\n",
    "\n",
    "    for i in range(m):\n",
    "        for j in range(n):\n",
    "            if (i + j) % 2 == 0:\n",
    "                matrix[i][j] = a\n",
    "            else:\n",
    "                matrix[i][j] = b\n",
    "\n",
    "    return matrix\n",
    "\n",
    "def test():\n",
    "    m = n = 2\n",
    "    a = 0\n",
    "    b = 1\n",
    "    result = chess(m, n, a, b)\n",
    "\n",
    "    expected = [[0, 1], [1, 0]]\n",
    "\n",
    "    np.testing.assert_array_equal(result, expected)\n",
    "    \n",
    "    \n",
    "test()"
   ],
   "metadata": {
    "id": "RWNJYWQGecS6",
    "is_executing": true
   },
   "execution_count": null,
   "outputs": []
  },
  {
   "cell_type": "markdown",
   "source": [
    "<h1>Задача 6. Напишите функцию, которая отрисовывает прямоугольник с заданными размерами (a, b) на изображении размера (m, n), цвет фона задайте в схеме RGB, как и цвет прямоугольника. Цвета также должны быть параметрами функции. Напишите аналогичную функцию но для овала с полуосями a и b. Напишите тесты для кода.\n",
    "Примечание: уравнение эллипса (границы овала) можно записать как:\n",
    "<h1>$\\frac{(x-x_0)^2}{a^2}+\\frac{(y-y_0)^2}{b^2}=1$"
   ],
   "metadata": {
    "id": "-ymXLtTN0vB6"
   }
  },
  {
   "cell_type": "code",
   "source": [
    "def draw_rectangle(image, m, n, a, b, bg_color, rect_color):\n",
    "    image = np.array(image)\n",
    "    if a > m or b > n:\n",
    "        raise ValueError(\"Размеры прямоугольника больше размеров изображения.\")\n",
    "    image[:, :] = bg_color\n",
    "    x_start = (m - a) // 2\n",
    "    y_start = (n - b) // 2\n",
    "    image[y_start:y_start + b, x_start:x_start + a] = rect_color\n",
    "    return image\n",
    "\n",
    "def draw_ellipse(image, m, n, a, b, bg_color, ellipse_color):\n",
    "    image = np.array(image) \n",
    "    if a > m or b > n:\n",
    "        raise ValueError(\"Размеры овала больше размеров изображения.\")\n",
    "    image[:, :] = bg_color\n",
    "    x_center = m // 2\n",
    "    y_center = n // 2\n",
    "    theta = np.linspace(0, 2 * np.pi, 100)\n",
    "    x_points = x_center + a * np.cos(theta)\n",
    "    y_points = y_center + b * np.sin(theta)\n",
    "    for i in range(len(theta)):\n",
    "        x = int(round(x_points[i]))\n",
    "        y = int(round(y_points[i]))\n",
    "        if 0 <= x < m and 0 <= y < n:\n",
    "            image[y, x] = ellipse_color\n",
    "    return image\n",
    "\n",
    "if __name__ == \"__main__\":\n",
    "    m, n = 400, 300\n",
    "    bg_color = (255, 255, 255)\n",
    "    rect_color = (255, 0, 0)\n",
    "    ellipse_color = (0, 255, 255)\n",
    "\n",
    "    image = np.full((n, m, 3), 0, dtype=np.uint8)\n",
    "\n",
    "    image_with_rect = draw_rectangle(image.copy(), m, n, 200, 100, bg_color, rect_color)\n",
    "    image_with_ellipse = draw_ellipse(image.copy(), m, n, 150, 75, bg_color, ellipse_color)\n",
    "\n",
    "    plt.subplot(1, 2, 1)\n",
    "    plt.imshow(image_with_rect)\n",
    "    plt.title(\"Прямоугольник\")\n",
    "\n",
    "    plt.subplot(1, 2, 2)\n",
    "    plt.imshow(image_with_ellipse)\n",
    "    plt.title(\"Овал\")\n",
    "\n",
    "    plt.show()\n"
   ],
   "metadata": {
    "id": "sNfl1t_kfOF4"
   },
   "execution_count": 1,
   "outputs": []
  },
  {
   "cell_type": "markdown",
   "source": [
    "<h1>Задача 7. Дан некий временной ряд. Для данного ряда нужно найти его: математическое ожидание, дисперсию, СКО, найти все локальные максимумы и минимумы (локальный максимум - это точка, которая больше своих соседних точек, а локальный минимум - это точка, которая меньше своих соседей), а также вычислить для данного ряда другой ряд, получаемый методом скользящего среднего с размером окна $p$.\n",
    "<h1>Примечание: метод скользящего среднего подразумевает нахождение среднего из подмножетсва ряда размером $p$"
   ],
   "metadata": {
    "id": "S82c38oz244H"
   }
  },
  {
   "cell_type": "code",
   "source": [
    "time_series = [10, 12, 15, 14, 18, 20, 22]\n",
    "\n",
    "mean_value = np.mean(time_series)\n",
    "\n",
    "variance = np.var(time_series)\n",
    "\n",
    "std_deviation = np.sqrt(variance)\n",
    "\n",
    "print(\"Математическое ожидание:\", mean_value)\n",
    "print(\"Дисперсия:\", variance)\n",
    "print(\"СКО:\", std_deviation)\n",
    "\n",
    "from scipy.signal import argrelextrema\n",
    "\n",
    "local_maxima_indices = argrelextrema(np.array(time_series), np.greater)[0]\n",
    "local_minima_indices = argrelextrema(np.array(time_series), np.less)[0]\n",
    "\n",
    "local_maxima = [time_series[i] for i in local_maxima_indices]\n",
    "local_minima = [time_series[i] for i in local_minima_indices]\n",
    "\n",
    "print(\"Локальные максимумы:\", local_maxima)\n",
    "print(\"Локальные минимумы:\", local_minima)\n",
    "\n",
    "import pandas as pd\n",
    "\n",
    "p = 3 \n",
    "\n",
    "df = pd.DataFrame({'value': time_series})\n",
    "\n",
    "rolling_mean = df['value'].rolling(window=p).mean()\n",
    "\n",
    "print(\"Ряд скользящего среднего с окном\", p, \":\", rolling_mean.tolist())"
   ],
   "metadata": {
    "id": "Zb9mIVge5MMt"
   },
   "execution_count": null,
   "outputs": []
  },
  {
   "cell_type": "markdown",
   "source": [
    "<h1> Задача 8. Дан некоторый вектор с целочисленными метками классов, напишите функцию, которая выполняет one-hot-encoding для данного вектора\n",
    "<h1> One-hot-encoding - представление, в котором на месте метки некоторого класса стоит 1, в остальных позициях стоит 0. Например для вектора [0, 2, 3, 0] one-hot-encoding выглядит как: [[1, 0, 0, 0], [0, 0, 1, 0], [0, 0, 0, 1], [1, 0, 0, 0]]"
   ],
   "metadata": {
    "id": "jPkylmOX5O9n"
   }
  },
  {
   "cell_type": "code",
   "source": [
    "def one_hot_encoding(vector):\n",
    "    max_met = max(vector)\n",
    "    len_vector = len(vector)\n",
    "    hot_encoding = [ [0] * (max_met + 1) for i in range(len_vector)]  #[0 * (max_met + 1)][len_vector]\n",
    "\n",
    "    for i in range(len_vector):\n",
    "        hot_encoding[i][vector[i]] = 1\n",
    "\n",
    "    return hot_encoding\n",
    "\n",
    "one_hot_encoding([0, 2, 3, 0])"
   ],
   "metadata": {
    "id": "Y-jlnZvw56lD"
   },
   "execution_count": null,
   "outputs": []
  }
 ]
}
