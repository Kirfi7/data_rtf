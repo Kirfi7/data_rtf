{
 "cells": [
  {
   "cell_type": "markdown",
   "metadata": {
    "id": "M-DGa20PaHnu"
   },
   "source": [
    "#Задача 1\n",
    "Написать функцию на вход которой подается строка, состоящая из латинских букв.\n",
    "Функция должна вернуть количество гласных букв (a, e, i, o, u) в этой строке. Написать тесты для кода"
   ]
  },
  {
   "cell_type": "code",
   "execution_count": null,
   "metadata": {
    "id": "XvX8X_JJ6PCb",
    "is_executing": true
   },
   "outputs": [],
   "source": [
    "import unittest\n",
    "\n",
    "def count_vowels(string):\n",
    "    vowels = \"aeiou\"\n",
    "    count = 0\n",
    "    for char in string:\n",
    "        if char in vowels:\n",
    "            count += 1\n",
    "    return count\n",
    "\n",
    "class TestCountVowels(unittest.TestCase):\n",
    "    def test_no_vowels(self):\n",
    "        self.assertEqual(count_vowels(\"hllwrd\"), 0)\n",
    "\n",
    "    def test_lowercase_vowels(self):\n",
    "        self.assertEqual(count_vowels(\"hello world\"), 3)"
   ]
  },
  {
   "cell_type": "markdown",
   "metadata": {
    "id": "t2ClV_Y0bbr6"
   },
   "source": [
    "# Задача 2\n",
    "Написать функцию на вход, которой подается строка. Функция должна вернуть true, если\n",
    "каждый символ в строке встречается только 1 раз, иначе должна вернуть false. Написать тесты для кода"
   ]
  },
  {
   "cell_type": "code",
   "execution_count": null,
   "metadata": {
    "id": "FppbECao6VIz"
   },
   "outputs": [],
   "source": [
    "import unittest\n",
    "\n",
    "def is_unique(string):\n",
    "    seen = set()\n",
    "    for char in string:\n",
    "        if char in seen:\n",
    "            return False\n",
    "        seen.add(char)\n",
    "    return True\n",
    "\n",
    "class TestIsUnique(unittest.TestCase):\n",
    "    def test_unique_string(self):\n",
    "        self.assertTrue(is_unique(\"abcdefg\"))\n",
    "\n",
    "    def test_non_unique_string(self):\n",
    "        self.assertFalse(is_unique(\"hello\"))\n",
    "\n",
    "    def test_empty_string(self):\n",
    "        self.assertTrue(is_unique(\"\"))\n",
    "\n",
    "    def test_single_character_string(self):\n",
    "        self.assertTrue(is_unique(\"a\"))\n",
    "\n",
    "if __name__ == \"__main__\":\n",
    "    unittest.main()\n"
   ]
  },
  {
   "cell_type": "markdown",
   "metadata": {
    "id": "udRiIK1cdt6E"
   },
   "source": [
    "# Задача 3\n",
    "Написать функцию, которая принимает положительное число и возвращает количество\n",
    "бит равных 1 в этом числе. Написать тесты для кода"
   ]
  },
  {
   "cell_type": "code",
   "execution_count": null,
   "metadata": {
    "id": "6tkfDJRz6dp_"
   },
   "outputs": [],
   "source": [
    "import unittest\n",
    "\n",
    "def count_ones(n):\n",
    "    count = 0\n",
    "    while n > 0:\n",
    "        if n % 2 == 1:\n",
    "            count += 1\n",
    "        n //= 2\n",
    "    return count\n",
    "\n",
    "class TestCountOnes(unittest.TestCase):\n",
    "    def test_positive_integer(self):\n",
    "        self.assertEqual(count_ones(10), 2)\n",
    "\n",
    "    def test_zero(self):\n",
    "        self.assertEqual(count_ones(0), 0)\n",
    "\n",
    "    def test_large_number(self):\n",
    "        self.assertEqual(count_ones(1023), 10)\n",
    "\n",
    "    def test_power_of_two(self):\n",
    "        self.assertEqual(count_ones(64), 1)\n",
    "\n",
    "if __name__ == \"__main__\":\n",
    "    unittest.main()"
   ]
  },
  {
   "cell_type": "markdown",
   "metadata": {
    "id": "26dDUz-Ae17N"
   },
   "source": [
    "# Задача 4\n",
    "Написать функцию, которая принимает положительное число. Функция должна вернуть то,\n",
    "сколько раз необходимо перемножать цифры числа или результат перемножения, чтобы\n",
    "получилось число состоящее из одной цифры.\n",
    "Например, для входного числа:\n",
    "· 39 функция должна вернуть 3, так как 3*9=27 => 2*7=14 => 1*4=4\n",
    "· 4 функция должна вернуть 0, так как число уже состоит из одной цифры\n",
    "· 999 функция должна вернуть 4, так как 9*9*9=729 => 7*2*9=126 => 1*2*6=12 =>\n",
    "1*2=2. Написать тесты для кода"
   ]
  },
  {
   "cell_type": "code",
   "execution_count": null,
   "metadata": {
    "id": "BH1A_Mgi6i4G"
   },
   "outputs": [],
   "source": [
    "import unittest\n",
    "def magic(n):\n",
    "    if n < 10:\n",
    "        return 0\n",
    "    steps = 0\n",
    "    while n >= 10:\n",
    "        product = 1\n",
    "        while n > 0:\n",
    "            product *= n % 10\n",
    "            n //= 10\n",
    "        n = product\n",
    "        steps += 1\n",
    "    return steps\n",
    "\n",
    "class TestMagicFunction(unittest.TestCase):\n",
    "    def test_example_1(self):\n",
    "        self.assertEqual(magic(39), 3)\n",
    "\n",
    "    def test_example_2(self):\n",
    "        self.assertEqual(magic(4), 0)\n",
    "\n",
    "    def test_example_3(self):\n",
    "        self.assertEqual(magic(999), 4)\n",
    "\n",
    "    def test_single_digit(self):\n",
    "        self.assertEqual(magic(7), 0)"
   ]
  },
  {
   "cell_type": "markdown",
   "metadata": {
    "id": "0nS-kIa8g8vd"
   },
   "source": [
    "# Задача 5\n",
    "Написать функцию, которая принимает два целочисленных вектора одинаковой длины и\n",
    "возвращает среднеквадратическое отклонение двух векторов. Написать тесты для кода"
   ]
  },
  {
   "cell_type": "code",
   "execution_count": null,
   "metadata": {
    "id": "8iphx4LM6xbx"
   },
   "outputs": [],
   "source": [
    "import unittest\n",
    "def mse(pred, true):\n",
    "    if len(pred) != len(true):\n",
    "        raise ValueError(\"ERROR\")\n",
    "    n = len(pred)\n",
    "    squared_errors = [(pred[i] - true[i]) ** 2 for i in range(n)]\n",
    "    mse_value = sum(squared_errors) / n\n",
    "    return mse_value\n",
    "\n",
    "class TestMSE(unittest.TestCase):\n",
    "    def test_mse_same_vectors(self):\n",
    "        pred = [1, 2, 3, 4, 5]\n",
    "        true = [1, 2, 3, 4, 5]\n",
    "        self.assertEqual(mse(pred, true), 0.0)\n",
    "\n",
    "    def test_mse_different_vectors(self):\n",
    "        pred = [1, 2, 3, 4, 5]\n",
    "        true = [5, 4, 3, 2, 1]\n",
    "        self.assertEqual(mse(pred, true), 8.0)\n",
    "\n",
    "    def test_mse_vectors_with_negative_values(self):\n",
    "        pred = [-1, -2, -3, -4, -5]\n",
    "        true = [-5, -4, -3, -2, -1]\n",
    "        self.assertEqual(mse(pred, true), 8.0)"
   ]
  },
  {
   "cell_type": "markdown",
   "metadata": {
    "id": "vpIPKL439zkw"
   },
   "source": [
    "# Задача 6\n",
    "Написать функцию, принимающая целое положительное число. Функция должна вернуть\n",
    "строку вида “(n1**p1)(n2**p2)…(nk**pk)” представляющая разложение числа на простые\n",
    "множители (если pi == 1, то выводить только ni).\n",
    "Например, для числа 86240 функция должна вернуть “(2**5)(5)(7**2)(11)”. Написать тесты для кода"
   ]
  },
  {
   "cell_type": "code",
   "execution_count": null,
   "metadata": {
    "id": "pFebmcZk94Jw"
   },
   "outputs": [],
   "source": [
    "import unittest\n",
    "def prime_factors(n):\n",
    "    factors = []\n",
    "    divisor = 2\n",
    "    while n > 1:\n",
    "        while n % divisor == 0:\n",
    "            factors.append(divisor)\n",
    "            n //= divisor\n",
    "        divisor += 1\n",
    "    return factors\n",
    "\n",
    "def format_prime_factors(n):\n",
    "    factors = prime_factors(n)\n",
    "    unique_factors = list(set(factors))\n",
    "    formatted_factors = []\n",
    "    for factor in unique_factors:\n",
    "        count = factors.count(factor)\n",
    "        if count == 1:\n",
    "            formatted_factors.append(f\"({factor})\")\n",
    "        else:\n",
    "            formatted_factors.append(f\"({factor}**{count})\")\n",
    "    return \"\".join(formatted_factors)\n",
    "\n",
    "class TestPrimeFactors(unittest.TestCase):\n",
    "\n",
    "    def test_prime_factors(self):\n",
    "        self.assertEqual(prime_factors(86240), [2, 2, 2, 2, 2, 5, 7, 7, 11])\n",
    "        self.assertEqual(prime_factors(12), [2, 2, 3])\n",
    "        self.assertEqual(prime_factors(37), [37])\n",
    "\n",
    "    def test_format_prime_factors(self):\n",
    "        self.assertEqual(format_prime_factors(86240), \"(2**5)(11)(5)(7**2)\")\n",
    "        self.assertEqual(format_prime_factors(12), \"(2**2)(3)\")\n",
    "        self.assertEqual(format_prime_factors(37), \"(37)\")\n",
    "\n",
    "if __name__ == '__main__':\n",
    "    unittest.main()"
   ]
  },
  {
   "cell_type": "markdown",
   "metadata": {
    "id": "ps2s0BudX7A2"
   },
   "source": [
    "# Задача 7\n",
    "Написать функцию, принимающая целое число n, задающее количество кубиков. Функция\n",
    "должна определить, можно ли из данного кол-ва кубиков построить пирамиду, то есть\n",
    "можно ли представить число n как 1^2+2^2+3^2+…+k^2. Если можно, то функция должна\n",
    "вернуть k, иначе строку “It is impossible”. Написать тесты для кода"
   ]
  },
  {
   "cell_type": "code",
   "execution_count": null,
   "metadata": {
    "id": "3YPjEXxhX_YT"
   },
   "outputs": [],
   "source": [
    "import numpy as np\n",
    "from sklearn.metrics import mean_squared_error\n",
    "\n",
    "def can_build_pyramid(n):\n",
    "    k = 1\n",
    "    while True:\n",
    "        sequence = np.arange(1, k + 1)\n",
    "        sum_of_squares = np.sum(sequence**2)\n",
    "        if sum_of_squares == n:\n",
    "            return k\n",
    "        elif sum_of_squares > n:\n",
    "            return \"It is impossible\"\n",
    "        k += 1\n",
    "\n",
    "import unittest\n",
    "\n",
    "class TestCanBuildPyramid(unittest.TestCase):\n",
    "\n",
    "    def test_can_build_pyramid(self):\n",
    "        self.assertEqual(can_build_pyramid(1), 1)\n",
    "        self.assertEqual(can_build_pyramid(5), 2)\n",
    "        self.assertEqual(can_build_pyramid(14), 3)\n",
    "        self.assertEqual(can_build_pyramid(385), 10)\n",
    "\n",
    "    def test_cannot_build_pyramid(self):\n",
    "        self.assertEqual(can_build_pyramid(2), \"It is impossible\")\n",
    "        self.assertEqual(can_build_pyramid(8), \"It is impossible\")\n",
    "        self.assertEqual(can_build_pyramid(11), \"It is impossible\")\n",
    "        self.assertEqual(can_build_pyramid(500), \"It is impossible\")\n",
    "\n",
    "if __name__ == '__main__':\n",
    "    unittest.main()"
   ]
  },
  {
   "cell_type": "markdown",
   "metadata": {
    "id": "KeKgmIdAQMEJ"
   },
   "source": [
    "# Задача 8\n",
    "Функция принимает на вход положительное число и определяет является ли оно сбалансированным, т.е. сумма цифр до средних равна сумме цифр после. Средними в случае нечетного числа цифр считать одну цифру, в случае четного - две средних. Написать тесты для кода"
   ]
  },
  {
   "cell_type": "code",
   "execution_count": null,
   "metadata": {
    "id": "gMAAqtqlQrZt"
   },
   "outputs": [],
   "source": [
    "import numpy as np\n",
    "import unittest\n",
    "\n",
    "def is_balanced_number(number):\n",
    "    num_str = str(number)\n",
    "    length = len(num_str)\n",
    "    mid = length // 2\n",
    "    if length % 2 == 0:\n",
    "        mid_indices = [mid - 1, mid]\n",
    "    else:\n",
    "        mid_indices = [mid]\n",
    "    left_part = num_str[:mid_indices[0]]\n",
    "    right_part = num_str[mid_indices[-1] + 1:]\n",
    "    left_sum = np.sum([int(digit) for digit in left_part])\n",
    "    right_sum = np.sum([int(digit) for digit in right_part])\n",
    "\n",
    "    return left_sum == right_sum\n",
    "\n",
    "class TestIsBalancedNumber(unittest.TestCase):\n",
    "\n",
    "    def test_balanced_number(self):\n",
    "        self.assertTrue(is_balanced_number(12321))\n",
    "        self.assertTrue(is_balanced_number(1234321))\n",
    "        self.assertTrue(is_balanced_number(1))\n",
    "        self.assertTrue(is_balanced_number(111))\n",
    "        self.assertTrue(is_balanced_number(123456654321))\n",
    "\n",
    "    def test_unbalanced_number(self):\n",
    "        self.assertFalse(is_balanced_number(12345))\n",
    "        self.assertFalse(is_balanced_number(123456))\n",
    "        self.assertFalse(is_balanced_number(1234))"
   ]
  }
 ],
 "metadata": {
  "colab": {
   "provenance": []
  },
  "kernelspec": {
   "display_name": "Python 3 (ipykernel)",
   "language": "python",
   "name": "python3"
  },
  "language_info": {
   "codemirror_mode": {
    "name": "ipython",
    "version": 3
   },
   "file_extension": ".py",
   "mimetype": "text/x-python",
   "name": "python",
   "nbconvert_exporter": "python",
   "pygments_lexer": "ipython3",
   "version": "3.11.0"
  }
 },
 "nbformat": 4,
 "nbformat_minor": 4
}
